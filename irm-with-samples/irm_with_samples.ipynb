{
 "cells": [
  {
   "cell_type": "code",
   "execution_count": 1,
   "id": "9082e661",
   "metadata": {},
   "outputs": [],
   "source": [
    "import os\n",
    "import numpy as np\n",
    "import pandas as pd\n",
    "from scipy.linalg import expm\n",
    "from scipy.optimize import fsolve\n",
    "from scipy.stats import norm\n",
    "import matplotlib.pyplot as plt"
   ]
  },
  {
   "cell_type": "markdown",
   "id": "e7313d09",
   "metadata": {},
   "source": [
    "# Plutonium Reconstruction for Sampled Input Parameters\n",
    "The premise of this notebook is that we have run 4000 reactor simulations with varied input parameters and processed the output files.\n",
    "The logical steps of inferring plutonium production are the same as in the notebook `irm-demonstration.ipynb`.\n",
    "Only the implementation of the functions has been changed slightly, to optimize the execution time of the loop that runs over all 4000 simulations.\n",
    "The relevant simulation results are read from the csv files, which are provided in the repository."
   ]
  },
  {
   "cell_type": "code",
   "execution_count": 2,
   "id": "3f221b83",
   "metadata": {},
   "outputs": [],
   "source": [
    "pu_production = pd.read_csv('pu_production.csv', index_col=0).sum(axis=1)"
   ]
  },
  {
   "cell_type": "code",
   "execution_count": 3,
   "id": "4e9ac323",
   "metadata": {},
   "outputs": [],
   "source": [
    "runtime = pd.read_csv('reactor_runtimes.csv', index_col=0)"
   ]
  },
  {
   "cell_type": "code",
   "execution_count": 4,
   "id": "c7a30bee",
   "metadata": {},
   "outputs": [],
   "source": [
    "averaged_spectra = pd.read_csv('averaged_spectra.csv', index_col=0)"
   ]
  },
  {
   "cell_type": "code",
   "execution_count": 5,
   "id": "545dea75",
   "metadata": {},
   "outputs": [],
   "source": [
    "xs_janis = pd.read_csv('janis_xs_B_Ti.csv', index_col=0, header=[0,1])\n",
    "xs_values = xs_janis.xs('sigma', level = 1, axis = 1)[['Ti47_MT102', 'Ti48_MT102', 'Ti49_MT102']]"
   ]
  },
  {
   "cell_type": "markdown",
   "id": "dbaa2358",
   "metadata": {},
   "source": [
    "## Calculate the One-Group Cross-Sections for the Titanium Reactions"
   ]
  },
  {
   "cell_type": "code",
   "execution_count": 6,
   "id": "0e260074",
   "metadata": {},
   "outputs": [],
   "source": [
    "one_group_cross_sections = np.dot(xs_values.values.T, averaged_spectra.values.T) / averaged_spectra.sum(axis=1).values *1e-24"
   ]
  },
  {
   "cell_type": "markdown",
   "id": "9d8245e6",
   "metadata": {},
   "source": [
    "Most of the sampled input parameters have been varied during the reactor simulation.\n",
    "The cross-sections for titanium were not, because the only enter the model when calculating the isotopic ratio.\n",
    "Therefore, we read the input samples for the titanium cross-section parameters, transform the uniformly distributed samples to normally distributed samples and then transform the one-group cross-sections with the samples. "
   ]
  },
  {
   "cell_type": "code",
   "execution_count": 7,
   "id": "7581198c",
   "metadata": {},
   "outputs": [],
   "source": [
    "sobol_titanium = pd.read_csv('sobol_samples_ti_reacs.csv', index_col=0)\n",
    "transformed_sobol = norm.ppf(sobol_titanium, loc=1, scale=0.028)\n",
    "transformed_ogxs = one_group_cross_sections * transformed_sobol.T"
   ]
  },
  {
   "cell_type": "markdown",
   "id": "0e96c25a",
   "metadata": {},
   "source": [
    "## Calculate the Elements of the Transition Matrix\n",
    "\n",
    "The logic of the burnup matrix is explained in the `irm-demonstration.ipynb` notebook. \n",
    "Here, we use numpy array manipulation to calculate the matrix elements for each sample.\n",
    "This is faster than the implementation in the above notebook, but conceptually identical."
   ]
  },
  {
   "cell_type": "markdown",
   "id": "d1db9f83",
   "metadata": {},
   "source": [
    "Each element of the simplified burnup matrix contains a term:\n",
    "$$\\left(\\sum_E \\,\\sigma_E\\phi_E\\right)\\times t.$$\n",
    "\n",
    "With\n",
    "$$Pu(t)\\approx\\frac{Pu_0\\times\\overline{\\phi}\\times t}{\\Phi_0},$$\n",
    "\n",
    "each matrix element can be written as:\n",
    "$$\\left(\\frac{\\sum_E \\,\\sigma_E\\phi_E}{\\overline{\\phi}}\\times\\frac{\\Phi_0}{Pu_0}\\right)\\times Pu$$"
   ]
  },
  {
   "cell_type": "code",
   "execution_count": 8,
   "id": "cd5921c2",
   "metadata": {},
   "outputs": [],
   "source": [
    "phi_0 = averaged_spectra.sum(axis=1).values * runtime.values.squeeze() * 60 * 60 * 24\n",
    "pu_per_unit_fluence = pu_production.values / phi_0"
   ]
  },
  {
   "cell_type": "code",
   "execution_count": 9,
   "id": "4fb07034",
   "metadata": {},
   "outputs": [],
   "source": [
    "matrix_elements = transformed_ogxs / pu_per_unit_fluence"
   ]
  },
  {
   "cell_type": "markdown",
   "id": "cb619fbd",
   "metadata": {},
   "source": [
    "Here, the functions to calculate the isotopic ratio and to invert it numerically are defined."
   ]
  },
  {
   "cell_type": "code",
   "execution_count": 10,
   "id": "6aaf6f18",
   "metadata": {},
   "outputs": [],
   "source": [
    "def titanium_matrix(*args):\n",
    "    \"\"\"Create the transition matrix for titanium\"\"\"\n",
    "    t = np.array([[-args[0],        0,        0],\n",
    "                  [ args[0], -args[1],        0],\n",
    "                  [       0,  args[1], -args[2]]])\n",
    "    return t"
   ]
  },
  {
   "cell_type": "code",
   "execution_count": 11,
   "id": "86b55fa1",
   "metadata": {},
   "outputs": [],
   "source": [
    "def isotopic_vector(matrix, ma_els, val, n_0):\n",
    "    \"\"\"Calculate the isotopic vector evolution\n",
    "    \n",
    "    Uses the simplified burnup matrix to calculate\n",
    "    the time evolution of the isotopic vector.\n",
    "    \n",
    "    Parameters\n",
    "    ----------\n",
    "    matrix : callable\n",
    "        Returns the burnup matrix when given the matrix elements\n",
    "    ma_els : np.ndarray\n",
    "        Elements of the burnup matrix. The size of the array \n",
    "        needs to fit the requirements of the matrix.\n",
    "    n_0 : np.ndarray\n",
    "        Isotopic vector of the element at t=0, commonly\n",
    "        the natural isotopic composition.\n",
    "    val : float\n",
    "        Variable representing the time in the equation.\n",
    "        \n",
    "    Returns\n",
    "    -------\n",
    "    iso_vec : np.ndarray\n",
    "        Isotopic vector at time t\n",
    "    \"\"\"\n",
    "    bu_matrix = matrix(*ma_els)\n",
    "    exp_matrix = expm(bu_matrix * val)\n",
    "    iso_vec = np.dot(exp_matrix, n_0)\n",
    "    return iso_vec"
   ]
  },
  {
   "cell_type": "code",
   "execution_count": 12,
   "id": "e1133678",
   "metadata": {},
   "outputs": [],
   "source": [
    "def ratio_plutonium_function(ma_els, matrix, n_0, idx):\n",
    "    \"\"\"Calculate the isotopic vector as a function of plutonium\n",
    "    \n",
    "    Parameters\n",
    "    ----------\n",
    "    ma_els : np.ndarray\n",
    "        Elements of the burnup matrix. The size of the array \n",
    "        needs to fit the requirements of the matrix.\n",
    "    matrix : callable\n",
    "        Returns the burnup matrix when given the matrix elements.\n",
    "    n_0 : np.ndarray\n",
    "        The natural isotopic vector of the indicator element.\n",
    "    idx : list or array, len = 2\n",
    "        The components of the isotopic vector that are divided to \n",
    "        calculate the ratio.\n",
    "        \n",
    "    Returns\n",
    "    -------\n",
    "    ratio : callable\n",
    "    \"\"\"\n",
    "    def ratio(pu):\n",
    "        iso_vec = isotopic_vector(matrix=matrix,\n",
    "                                  ma_els=ma_els,\n",
    "                                  val=pu,\n",
    "                                  n_0=n_0,\n",
    "                                  )\n",
    "        return iso_vec[idx[0]] / iso_vec[idx[1]]\n",
    "    return ratio"
   ]
  },
  {
   "cell_type": "code",
   "execution_count": 13,
   "id": "b2c40578",
   "metadata": {},
   "outputs": [],
   "source": [
    "def plutonium_solver(func, ratio, guess):\n",
    "    \"\"\"Solve equation for plutonium given an isotopic ratio\n",
    "    \n",
    "    Uses scipy.optimize.fsolve to solve the equation:\n",
    "    \n",
    "                Ratio(Pu) - Ratio_measured = 0.\n",
    "    \n",
    "    Parameters\n",
    "    ----------\n",
    "    func : callable \n",
    "        Function relating the isotopic ratio with the total plutonium\n",
    "        production.\n",
    "    ratio : float\n",
    "        Measured isotopic ratio.\n",
    "    guess : float\n",
    "        Starting guess for the solver.\n",
    "        \n",
    "    Returns\n",
    "    -------\n",
    "    pu_solve\n",
    "    \"\"\"\n",
    "    def solve_func(pu):\n",
    "        return func(pu) - ratio\n",
    "    pu_solve = fsolve(solve_func, guess, full_output=True)\n",
    "    return pu_solve[0]"
   ]
  },
  {
   "cell_type": "markdown",
   "id": "7cf951b7",
   "metadata": {},
   "source": [
    "## Reconstruct the Plutonium Density for each Simulation \n",
    "`matrix_elements` is a $3\\times 4000$ dimensional array, containing the matrix elements calculated for each simulation that was run with a different input parameter combination.\n",
    "For each of the 4000 entries, the plutonium density is estimated for a hypothetical isotopic ratio measurement.\n",
    "In this example, we assume that a ratio $^{48}Ti/^{49}Ti = 1.73$ has been measured.\n",
    "The starting guess of the solver is 0.2 [g/cm$^{3}$], which turns out to be quite a bad guess, as can be seen in the figure below."
   ]
  },
  {
   "cell_type": "code",
   "execution_count": 14,
   "id": "29b69c5c",
   "metadata": {},
   "outputs": [],
   "source": [
    "n_0_ti = np.array([0.0744,0.7372,0.0541])"
   ]
  },
  {
   "cell_type": "code",
   "execution_count": 15,
   "id": "3a8b5146",
   "metadata": {},
   "outputs": [],
   "source": [
    "solv = []\n",
    "for n in matrix_elements.T:\n",
    "    f = ratio_plutonium_function(n, titanium_matrix, n_0_ti, idx=(1, 2))\n",
    "    s = plutonium_solver(f, 1.73, 0.2)\n",
    "    solv.append(s[0])"
   ]
  },
  {
   "cell_type": "code",
   "execution_count": 16,
   "id": "9cd426a5",
   "metadata": {},
   "outputs": [
    {
     "data": {
      "image/png": "[encoded data removed]",
      "text/plain": [
       "<Figure size 432x288 with 1 Axes>"
      ]
     },
     "metadata": {
      "needs_background": "light"
     },
     "output_type": "display_data"
    }
   ],
   "source": [
    "plt.figure()\n",
    "plt.hist(solv, bins=41, density=True)\n",
    "plt.xlabel('Plutonium density [g/cm3]')\n",
    "plt.ylabel('Probability density')\n",
    "plt.show()"
   ]
  }
 ],
 "metadata": {
  "kernelspec": {
   "display_name": "Python 3 (ipykernel)",
   "language": "python",
   "name": "python3"
  },
  "language_info": {
   "codemirror_mode": {
    "name": "ipython",
    "version": 3
   },
   "file_extension": ".py",
   "mimetype": "text/x-python",
   "name": "python",
   "nbconvert_exporter": "python",
   "pygments_lexer": "ipython3",
   "version": "3.8.11"
  }
 },
 "nbformat": 4,
 "nbformat_minor": 5
}
