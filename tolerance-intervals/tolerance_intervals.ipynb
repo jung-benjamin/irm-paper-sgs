{
 "cells": [
  {
   "cell_type": "code",
   "execution_count": 1,
   "id": "ae81e8f3",
   "metadata": {},
   "outputs": [],
   "source": [
    "import os\n",
    "import numpy as np\n",
    "import pandas as pd\n",
    "from scipy.stats import binom\n",
    "import matplotlib.pyplot as plt"
   ]
  },
  {
   "cell_type": "markdown",
   "id": "1d8234db",
   "metadata": {},
   "source": [
    "# Calculate Tolerance Intervals for the Reconstructed Plutonium"
   ]
  },
  {
   "cell_type": "markdown",
   "id": "ff636777",
   "metadata": {},
   "source": [
    "In this notebook, we illustrate why and how we calculate non-parametric tolerance intervals.\n",
    "A non-parametric calculation is necessary, if the sampled distribution does not resemble any parametrized probability distribution with known tolerance limits.\n",
    "For example, the 95\\,% tolerance interval of a normal distribution can be approximated by calculating an interval [$\\mu - 2\\sigma$, $\\mu + 2\\sigma$], where $\\mu$ is the mean of the sample and $\\sigma$ the standard deviation. \n",
    "\n",
    "The first subset of plutonium estimates corresponds to the CANDU-2 case in the manuscript.\n",
    "The plots further below show that this sample closely resembles a normal distribution.\n",
    "The second subset of plutonium estimates corresponds to the YB-1 case in the manuscript.\n",
    "This plutonium distribution does not resemble a normal distribution.\n",
    "The plots below show that in this case, a tolerance interval approximated by $\\pm 2\\sigma$ does not match a non-parametrically calculated tolerance interval."
   ]
  },
  {
   "cell_type": "markdown",
   "id": "41a88b47",
   "metadata": {},
   "source": [
    "Here we load an array of plutonium estimates.\n",
    "Each entry in the array corresponds to an IRM estimate performed with one set of input parameters."
   ]
  },
  {
   "cell_type": "code",
   "execution_count": 2,
   "id": "2b57a53f",
   "metadata": {},
   "outputs": [],
   "source": [
    "reconstructed_pu = np.genfromtxt('plutonium_from_samples.csv')"
   ]
  },
  {
   "cell_type": "markdown",
   "id": "c9d17a9f",
   "metadata": {},
   "source": [
    "It is possible to calculate tolerance intervals for a non-parametric probability distribution.\n",
    "The following function follows the book 'Statistical Tolerance Regions' by Krishnamoorthy and Mathew."
   ]
  },
  {
   "cell_type": "code",
   "execution_count": 3,
   "id": "943363e6",
   "metadata": {},
   "outputs": [],
   "source": [
    "def non_parametric_tolerance_interval(data, m, p, axis=0):\n",
    "    \"\"\"Calculate a tolerance interval for a non parametric distribution.\n",
    "    \n",
    "    Sorts the data from lowest to highest (order statistic) and takes\n",
    "    the m/2-th value from both sides of the sorted array as tolerance\n",
    "    limits. Properties of the binomial distribution are used to estimate\n",
    "    the confidence level for this tolerance interval.\n",
    "    \n",
    "    Source: 'Statistical Tolerance Regions' by Krishnamoorthy and Mathew.\n",
    "    \n",
    "    Parameters\n",
    "    ----------\n",
    "    data : array (floats)\n",
    "        Samples of the distribution\n",
    "    m : int\n",
    "        Index for the bounds of the interval\n",
    "    p : float\n",
    "        Portion of true distribution that should be inside\n",
    "        the tolerance level with the calculated confidence\n",
    "        level.\n",
    "    axis : int (defaults to 0)\n",
    "        Axis of the array along which to calculate the tolerance\n",
    "        interval.\n",
    "        \n",
    "    Returns\n",
    "    -------\n",
    "    conf : float\n",
    "        Estimated confidence level for the tolerance bounds.\n",
    "    Bounds : array (floats)\n",
    "        Bounds of the tolerance interval.\n",
    "    \"\"\"\n",
    "    n = data.shape[axis]\n",
    "    if not isinstance(m, int):\n",
    "        print('m should be an integer')\n",
    "    if m%2 == 0:\n",
    "        low = int(m / 2)\n",
    "        upp = int(n - m / 2)\n",
    "    else:\n",
    "        low = int((m + 1) / 2)\n",
    "        upp = int(n  + 1 - (m + 1) / 2)\n",
    "    order_statistics = np.sort(data, axis=axis)\n",
    "    q = n - m - 1\n",
    "    conf = binom.cdf(q, n, p)\n",
    "    \n",
    "    lower = np.take(order_statistics, low, axis=axis)\n",
    "    upper = np.take(order_statistics, upp, axis=axis)\n",
    "    \n",
    "    return {'Conf level': conf, 'Bounds': np.array([lower, upper])}"
   ]
  },
  {
   "cell_type": "markdown",
   "id": "e3b14f79",
   "metadata": {},
   "source": [
    "Now we calculate the tolerance interval for the plutonium array from above.\n",
    "The value of m is chosen so that the confidence level is 95\\%."
   ]
  },
  {
   "cell_type": "code",
   "execution_count": 4,
   "id": "01bee26d",
   "metadata": {},
   "outputs": [],
   "source": [
    "tol_int = non_parametric_tolerance_interval(reconstructed_pu, 177, 0.95)"
   ]
  },
  {
   "cell_type": "markdown",
   "id": "d7046768",
   "metadata": {},
   "source": [
    "If the distribution follows a normal distribution, the 95\\% tolerance interval is approximately $\\mu \\pm 2\\times\\sigma$.\n",
    "(The mean of the distribution plus/minus twice the standard deviation.)"
   ]
  },
  {
   "cell_type": "code",
   "execution_count": 5,
   "id": "09432a34",
   "metadata": {},
   "outputs": [],
   "source": [
    "normal_tol_int = [reconstructed_pu.mean() - 2 * reconstructed_pu.std(ddof=1), \n",
    "                  reconstructed_pu.mean() + 2 * reconstructed_pu.std(ddof=1)]"
   ]
  },
  {
   "cell_type": "markdown",
   "id": "f3eccc8a",
   "metadata": {},
   "source": [
    "We can compare the two tolerance intervals in a histogram.\n",
    "The blue bars in the graphic show a histogram of the plutonium samples, normalized so that it corresponds to a probability distribution.\n",
    "In this case, the distribution closely resembles a normal distribution.\n",
    "We can see that the two differently calculated tolerance intervalse match quite well."
   ]
  },
  {
   "cell_type": "code",
   "execution_count": 6,
   "id": "2c91f45e",
   "metadata": {},
   "outputs": [
    {
     "data": {
      "image/png": "[encoded data removed]",
      "text/plain": [
       "<Figure size 432x288 with 1 Axes>"
      ]
     },
     "metadata": {
      "needs_background": "light"
     },
     "output_type": "display_data"
    }
   ],
   "source": [
    "plt.figure()\n",
    "plt.grid(alpha=0.5)\n",
    "plt.hist(reconstructed_pu, bins=41, density=True, alpha=0.7)\n",
    "plt.vlines(tol_int['Bounds'], 0, 14, ls='dashed', color='red', label='Non-parametric')\n",
    "plt.vlines(normal_tol_int, 0, 14, ls='dotted', color='green', label=r'$\\mu\\pm 2\\times\\sigma$')\n",
    "plt.legend()\n",
    "plt.xlabel('Plutonium density [g/cm3]')\n",
    "plt.ylabel('Probability density')\n",
    "plt.show()"
   ]
  },
  {
   "cell_type": "markdown",
   "id": "5fd5e13b",
   "metadata": {},
   "source": [
    "Here, we show an example where the distribution does not resemble a normal distribution.\n",
    "The vertical dashed lines indicate the tolerance limits.\n",
    "In this case they do not match."
   ]
  },
  {
   "cell_type": "code",
   "execution_count": 7,
   "id": "f6cec909",
   "metadata": {},
   "outputs": [],
   "source": [
    "pu_2 = np.genfromtxt('plutonium_from_samples_2.csv')\n",
    "tol_int_2 = tol_int = non_parametric_tolerance_interval(pu_2, 177, 0.95)\n",
    "\n",
    "normal_tol_int_2 = [pu_2.mean() - 2 * pu_2.std(ddof=1), \n",
    "                    pu_2.mean() + 2 * pu_2.std(ddof=1)]"
   ]
  },
  {
   "cell_type": "code",
   "execution_count": 8,
   "id": "c5126534",
   "metadata": {},
   "outputs": [
    {
     "data": {
      "image/png": "[encoded data removed]",
      "text/plain": [
       "<Figure size 432x288 with 1 Axes>"
      ]
     },
     "metadata": {
      "needs_background": "light"
     },
     "output_type": "display_data"
    }
   ],
   "source": [
    "plt.figure()\n",
    "plt.grid(alpha=0.5)\n",
    "plt.hist(pu_2, bins=41, density=True, alpha=0.7)\n",
    "plt.vlines(tol_int_2['Bounds'], 0, 350, ls='dashed', color='red', label='Non-parametric')\n",
    "plt.vlines(normal_tol_int_2, 0, 350, ls='dotted', color='green', label=r'$\\mu\\pm 2\\times\\sigma$')\n",
    "plt.legend()\n",
    "plt.xlabel('Plutonium density [g/cm3]')\n",
    "plt.ylabel('Probability density')\n",
    "plt.show()"
   ]
  },
  {
   "cell_type": "code",
   "execution_count": null,
   "id": "00e6364e",
   "metadata": {},
   "outputs": [],
   "source": []
  }
 ],
 "metadata": {
  "kernelspec": {
   "display_name": "Python 3 (ipykernel)",
   "language": "python",
   "name": "python3"
  },
  "language_info": {
   "codemirror_mode": {
    "name": "ipython",
    "version": 3
   },
   "file_extension": ".py",
   "mimetype": "text/x-python",
   "name": "python",
   "nbconvert_exporter": "python",
   "pygments_lexer": "ipython3",
   "version": "3.8.11"
  }
 },
 "nbformat": 4,
 "nbformat_minor": 5
}
