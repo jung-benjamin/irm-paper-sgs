{
 "cells": [
  {
   "cell_type": "code",
   "execution_count": 1,
   "id": "5b8dd6e0",
   "metadata": {},
   "outputs": [],
   "source": [
    "import os\n",
    "import numpy as np\n",
    "import pandas as pd\n",
    "from scipy.linalg import expm\n",
    "from scipy.optimize import fsolve"
   ]
  },
  {
   "cell_type": "markdown",
   "id": "1cdafe81",
   "metadata": {},
   "source": [
    "# Isotope Ratio Method\n",
    "\n",
    "This notebook demonstrates the functions for inferring the produced plutonium from an isotope ratio measurement.\n",
    "The output of a reactor simulation has been processed and is provided to illustrate the method.\n",
    "\n",
    "## Processed Output from the Reactor Simulation\n",
    "- Time-averaged neutron spectrum $\\phi_E$\n",
    "- Plutonium density vector in the simulated fuel cell \n",
    "- Time steps of the reactor operation\n",
    "\n",
    "\n",
    "A core approximation in this simplified IRM implementation is that a reactor\n",
    "is operated for multiple cycles that are very similar and can thus be \n",
    "approximated with an average cycle, which is called an 'average batch' in the\n",
    "paper. It is assumed that after one such cycle, the entire core is emptied and\n",
    "the reactor is refueled with fresh fuel."
   ]
  },
  {
   "cell_type": "markdown",
   "id": "80abf5de",
   "metadata": {},
   "source": [
    "## Read Input Files\n",
    "\n",
    "Plutonium.csv contains isotopic vector of plutonium in the fuel, extracted from one `SERPENT` simulation.\n",
    "The nuclides Np239 and U239 are included, since the simulation did not use a cooling time after the final burnup step.\n",
    "Spectra.csv contains the neutron spectrum for each step of the simulation (corresponding to the steps in the plutonium file), measured in the target location for the irm sample."
   ]
  },
  {
   "cell_type": "code",
   "execution_count": 2,
   "id": "9337717f",
   "metadata": {},
   "outputs": [],
   "source": [
    "spectra = pd.read_csv('spectra.csv', index_col=0)\n",
    "plutonium = pd.read_csv('plutonium.csv', index_col=0)"
   ]
  },
  {
   "cell_type": "markdown",
   "id": "c02982af",
   "metadata": {},
   "source": [
    "For the IRM calculation presented below, we need to derive several parameters from the simulation output:\n",
    "- $Pu_0$ : the plutonium density in the fuel at the end of the cycle when the fuel is extracted"
   ]
  },
  {
   "cell_type": "code",
   "execution_count": 3,
   "id": "530720ae",
   "metadata": {},
   "outputs": [],
   "source": [
    "day_0 = plutonium.index[-1]\n",
    "t_0 = day_0 * 60 * 60 * 24 #convert from days to seconds\n",
    "pu_0 = plutonium.loc[day_0,:].sum()"
   ]
  },
  {
   "cell_type": "markdown",
   "id": "aed92dd2",
   "metadata": {},
   "source": [
    "- $\\overline{\\phi_E}$ : the average neutron spectrum at the sample location"
   ]
  },
  {
   "cell_type": "code",
   "execution_count": 4,
   "id": "e616013c",
   "metadata": {},
   "outputs": [],
   "source": [
    "phi_E_mean = spectra.mean(axis=1)"
   ]
  },
  {
   "cell_type": "markdown",
   "id": "175968a0",
   "metadata": {},
   "source": [
    "- $\\Phi_0$ : the total neutron fluence received by the sample location.\n",
    "The neutron fluence is approximated as $\\int dE dt \\phi_E\\left(t\\right)\\approx \\sum_E\\overline{\\phi_E} \\times t_0$"
   ]
  },
  {
   "cell_type": "code",
   "execution_count": 5,
   "id": "db48272f",
   "metadata": {},
   "outputs": [],
   "source": [
    "flux_mean = phi_E_mean.sum()\n",
    "phi_0 = flux_mean * t_0"
   ]
  },
  {
   "cell_type": "markdown",
   "id": "555824cd",
   "metadata": {},
   "source": [
    "## Evolution of the Isotopic Vector of Indicator Elements"
   ]
  },
  {
   "cell_type": "markdown",
   "id": "c199df63",
   "metadata": {},
   "source": [
    "The differential equations that describe the changes of the isotopic concentration $\\vec{N}$ can be expressed with help of the transition matrix $\\textbf{A}$:\n",
    "$$\\frac{d\\vec{N}}{dt} = \\textbf{A}\\cdot\\vec{N}.$$\n",
    "$\\vec{N}$ is the vector of number densities of the nuclides and $\\textbf{A}$ contains the probability for each reaction that produces or destroys a nuclide.\n",
    "In the cells below, we compute the components of the matrix $\\textbf{A}$ and call them reaction rates, which is a microscopic reaction rate (per target particle)."
   ]
  },
  {
   "cell_type": "markdown",
   "id": "3e0268fd",
   "metadata": {},
   "source": [
    "#### Microscopic Reaction Rate\n",
    "\n",
    "We use preprocessed cross-section data from the [JANIS 4.0 database](https://www.oecd-nea.org/jcms/pl_39910/janis).\n",
    "The cross-section librarys are provided on a specific energy grid and we tally the neutron spectrum on the same grid, to facilitate calculating the reaction rate or the one-group cross-section."
   ]
  },
  {
   "cell_type": "code",
   "execution_count": 6,
   "id": "4a07c70f",
   "metadata": {},
   "outputs": [],
   "source": [
    "xs_janis = pd.read_csv('janis_xs_B_Ti.csv', index_col=0, header=[0,1])\n",
    "xs_values = xs_janis.xs('sigma', level = 1, axis = 1)"
   ]
  },
  {
   "cell_type": "markdown",
   "id": "0f366c40",
   "metadata": {},
   "source": [
    "The reaction rate of a specific reaction is $R=\\int_0^\\inf dE \\,\\sigma\\left(E\\right)\\phi\\left(E\\right)$.\n",
    "On a discrete energy grid the integral simplifies to a sum: $R = \\sum_E \\,\\sigma_E\\phi_E$.\n",
    "As noted above, we approximate with the time-averaged neutron spectrum : $\\phi\\left(E,t\\right)\\approx\\overline{\\phi_E}$."
   ]
  },
  {
   "cell_type": "code",
   "execution_count": 7,
   "id": "53e9754f",
   "metadata": {},
   "outputs": [],
   "source": [
    "def calc_reaction_rate(xs_data, energy_spectrum):\n",
    "    \"\"\"Calculate the reaction rate from the cross sections\n",
    "    \n",
    "    The reaction rate is calculated by integrating the\n",
    "    product of cross-section and neutron flux over energy.\n",
    "    Both are available on a discrete energy grid, which\n",
    "    converts the integral into a sum.\n",
    "    Reaction rates for all reactions in the cross-section\n",
    "    DataFrame (xs_data) are calculted. All arrays need to \n",
    "    be on the same energy grid.\n",
    "    \n",
    "    The JANIS cross-section data is given in units barn.\n",
    "    Therefore the one-group cross-section is multiplied with\n",
    "    1e-24 to transform to SI units.\n",
    "    \n",
    "    Parameters\n",
    "    ----------\n",
    "    xs_data : pd.DataFrame\n",
    "        Columns contain energy dependent cross section data in \n",
    "        units of barn.\n",
    "    energy_spectrum : pd.DataFrame or pd.Series\n",
    "        Columns contain the energy spectrum counts.\n",
    "    \n",
    "    Returns\n",
    "    -------\n",
    "    rate : pd.Series\n",
    "        One reaction rate for each reactin in xs_data\n",
    "    \"\"\"\n",
    "    df = pd.DataFrame()\n",
    "    for name, column in xs_data.items():\n",
    "        prod = energy_spectrum.values * column.values\n",
    "        df[name] = prod\n",
    "    rate = df.sum(axis=0)\n",
    "    return rate * 1e-24"
   ]
  },
  {
   "cell_type": "markdown",
   "id": "7f430f2b",
   "metadata": {},
   "source": [
    "#### Isotopic Vector\n",
    "\n",
    "The solution to the neutron transport equation (see above) is $\\vec{N}(t) = \\exp\\left(\\textbf{A}t\\right)\\vec{N}(0),$ approximating that the elements of $\\textbf{A}$ are constant in time."
   ]
  },
  {
   "cell_type": "code",
   "execution_count": 8,
   "id": "1de767ec",
   "metadata": {},
   "outputs": [],
   "source": [
    "def isotopic_vector(matrix, t, xs, spectrum, n_0):\n",
    "    \"\"\"Calculate the isotopic vector evolution\n",
    "    \n",
    "    Uses the simplified burnup matrix to calculate\n",
    "    the time evolution of the isotopic vector.\n",
    "    \n",
    "    Parameters\n",
    "    ----------\n",
    "    matrix : callable\n",
    "        Simplified burnup matrix\n",
    "    t : float\n",
    "        Time in seconds (time the reactor is operational)\n",
    "    xs : pd.DataFrame\n",
    "        Cross-section data for the reactions accounted\n",
    "        for in the burnup matrix\n",
    "    spectrum : np.ndarray or pd.DataFrame\n",
    "        Neutron spectrum, needs to be on the same energy\n",
    "        grid as the cross-sections\n",
    "    n_0 : np.ndarray\n",
    "        Isotopic vector of the element at t=0, commonly\n",
    "        the natural isotopic composition.\n",
    "        \n",
    "    Returns\n",
    "    -------\n",
    "    iso_vec : np.ndarray\n",
    "        Isotopic vector at time t\n",
    "    \"\"\"\n",
    "    reac_rate = calc_reaction_rate(xs, spectrum)\n",
    "    bu_matrix = matrix(*reac_rate.values)\n",
    "    exp_matrix = expm(bu_matrix * t)\n",
    "    iso_vec = np.dot(exp_matrix, n_0)\n",
    "    return iso_vec"
   ]
  },
  {
   "cell_type": "markdown",
   "id": "d9045702",
   "metadata": {},
   "source": [
    "#### Transition Matrices\n",
    "\n",
    "To calulate the isotopic ratios of titanium-48/titanium-49 and boron-10/boron-11, we use the matrices:\n",
    "$$\n",
    "    \\textbf{A}_{ti} = \n",
    "        \\left(\\begin{array}{ccc}\n",
    "            -\\sigma_{^{47}Ti\\rightarrow^{48}Ti}\\phi & 0 & 0 \\\\                                               \n",
    "            \\sigma_{^{47}Ti\\rightarrow^{48}Ti}\\phi & -\\sigma_{^{48}Ti\\rightarrow^{49}Ti}\\phi & 0 \\\\ \n",
    "            0 & \\sigma_{^{48}Ti\\rightarrow^{49}Ti}\\phi & -\\sigma_{^{49}Ti\\rightarrow^{50}Ti}\\phi  \\\\ \n",
    "        \\end{array}\\right) \n",
    "$$\n",
    "and\n",
    "$$\n",
    "    \\textbf{A}_{b} =  \n",
    "        \\left(\\begin{array}{cc}                                \n",
    "            -\\sigma_{^{10}B\\rightarrow^{11}B}\\phi & 0 \\\\ \n",
    "            0 & 0 \\\\ \n",
    "        \\end{array}\\right).\n",
    "$$\n",
    "Although there are other reaction modes and other titanium isotopes, we found they were negligible."
   ]
  },
  {
   "cell_type": "code",
   "execution_count": 9,
   "id": "7dedddcd",
   "metadata": {},
   "outputs": [],
   "source": [
    "ti_reacs = ['Ti47_MT102', 'Ti48_MT102', 'Ti49_MT102']\n",
    "b_reacs = ['B10_MT107']"
   ]
  },
  {
   "cell_type": "code",
   "execution_count": 10,
   "id": "3c617dbb",
   "metadata": {},
   "outputs": [],
   "source": [
    "def titanium_matrix(*args):\n",
    "    \"\"\"Create the transition matrix for titanium\"\"\"\n",
    "    t = np.array([[-args[0],        0,        0],\n",
    "                  [ args[0], -args[1],        0],\n",
    "                  [       0,  args[1], -args[2]]])\n",
    "    return t\n",
    "\n",
    "def boron_matrix(*args):\n",
    "    \"\"\"Create the transition matrix for boron\"\"\"\n",
    "    b = np.array([[-args[0], 0],\n",
    "                  [    0.  , 0]])\n",
    "    return b"
   ]
  },
  {
   "cell_type": "markdown",
   "id": "c93f282f",
   "metadata": {},
   "source": [
    "The natural isotopic composition of boron and titanium (note that we neglected $^{46}$Ti and $^{50}$Ti) "
   ]
  },
  {
   "cell_type": "code",
   "execution_count": 11,
   "id": "50b79fbe",
   "metadata": {},
   "outputs": [],
   "source": [
    "n_0_ti = np.array([0.0744,0.7372,0.0541])\n",
    "n_0_b = np.array([0.2, 0.8])"
   ]
  },
  {
   "cell_type": "markdown",
   "id": "96de55ee",
   "metadata": {},
   "source": [
    "## Longterm Plutonium Production"
   ]
  },
  {
   "cell_type": "markdown",
   "id": "8c8fa4ad",
   "metadata": {},
   "source": [
    "As mentioned above, our model assumes that the reactor was operated for multiple cycles (multiple batches of fuel) under approximately identical conditions.\n",
    "The plutonium-per-unit-fluence is approximately constant: $\\frac{Pu_0}{\\Phi_0} \\approx \\frac{Pu(t)}{\\Phi(t)}$.\n",
    "Since $\\Phi(t)\\approx\\overline{\\phi}\\cdot t$, longterm plutonium can be written as: $$Pu(t)\\approx\\frac{Pu_0\\times\\overline{\\phi}\\times t}{\\Phi_0}$$"
   ]
  },
  {
   "cell_type": "code",
   "execution_count": 12,
   "id": "3d8fc437",
   "metadata": {},
   "outputs": [],
   "source": [
    "def plutonium_to_time(pu, flux_average, phi_0, pu_0):\n",
    "    \"\"\"Approximate time in units of plutonium\n",
    "    \n",
    "    With the assumption that plutonium-per-unit-fluence is constant for \n",
    "    an average batch of fuel (one simulation), the total plutonium \n",
    "    over several subsequent batches is related to the operating time\n",
    "    of the reactor via a linear equation.\n",
    "    \n",
    "    Parameters\n",
    "    ----------\n",
    "    pu : float\n",
    "        Plutonium density in g cm-3.\n",
    "    flux_average : float\n",
    "        Average flux in the reactor in s-1 cm-2.\n",
    "    phi_0 : float\n",
    "        Fluence of an average batch in cm-2.\n",
    "    pu_0 : float\n",
    "        Plutonium density of an average batch in g cm-3.\n",
    "    \n",
    "    Returns\n",
    "    -------\n",
    "    t : float\n",
    "        Total irradiation time in s.\n",
    "    \"\"\"\n",
    "    t = pu * phi_0 / pu_0 / flux_average\n",
    "    return t"
   ]
  },
  {
   "cell_type": "markdown",
   "id": "b6d09728",
   "metadata": {},
   "source": [
    "## Isotopic Ratio as a Function of Produced Plutonium\n",
    "\n",
    "Combining the time evolution of the isotopic vector with the approximation for the longterm plutonium production allows us to define a function $\\textbf{R(Pu)}$ that calculates the isotopic ratio depending on the produced plutonium."
   ]
  },
  {
   "cell_type": "code",
   "execution_count": 13,
   "id": "621a09b1",
   "metadata": {},
   "outputs": [],
   "source": [
    "def ratio_plutonium_function(spectrum, phi_0, pu_0, cross_sections,\n",
    "                             matrix, n_0, idx):\n",
    "    \"\"\"Calculate the isotopic vector as a function of plutonium\n",
    "    \n",
    "    Combine steps 1 and 2 of the irm analysis. First compute the \n",
    "    isotopic vector as a function of reactor operating time, then\n",
    "    insert the approximation between longterm plutonium production.\n",
    "    \n",
    "    Parameters\n",
    "    ----------\n",
    "    spectrum : np.ndarray or pd.DataFrame\n",
    "        Average neutron spectrum on the same energy grid\n",
    "        as the cross_sections.\n",
    "    phi_0 : float\n",
    "        Fluence of an average batch in cm-2.\n",
    "    pu_0 : float\n",
    "        Plutonium density (g cm-3) in the fuel at the end of an\n",
    "        average batch. \n",
    "    cross_sections : pd.DataFrame\n",
    "        Cross-sections of the reactions accounted for in the \n",
    "        burnup matrix.\n",
    "    matrix : callable\n",
    "        The simplified burnup matrix for the isotopic vector\n",
    "        of the indicator element.\n",
    "    n_0 : np.ndarray\n",
    "        The natural isotopic vector of the indicator element.\n",
    "    idx : list or array, len = 2\n",
    "        The components of the isotopic vector that are divided to \n",
    "        calculate the ratio.\n",
    "        \n",
    "    Returns\n",
    "    -------\n",
    "    ratio : callable\n",
    "    \"\"\"\n",
    "    flux_average = spectrum.sum()\n",
    "    def ratio(pu):\n",
    "        \"\"\"Callable ratio function with plutonium as variable\"\"\"\n",
    "        t = plutonium_to_time(pu, flux_average, phi_0, pu_0)\n",
    "        iso_vec = isotopic_vector(matrix,\n",
    "                                  t,\n",
    "                                  cross_sections,\n",
    "                                  spectrum,\n",
    "                                  n_0\n",
    "                                  )\n",
    "        return iso_vec[idx[0]] / iso_vec[idx[1]]\n",
    "    return ratio"
   ]
  },
  {
   "cell_type": "code",
   "execution_count": 14,
   "id": "0e21a762",
   "metadata": {},
   "outputs": [],
   "source": [
    "ti_pu_func = ratio_plutonium_function(phi_E_mean, phi_0, pu_0,\n",
    "                                      xs_values[ti_reacs], titanium_matrix,\n",
    "                                      n_0_ti, [1, 2])\n",
    "\n",
    "b_pu_func = ratio_plutonium_function(phi_E_mean, phi_0, pu_0,\n",
    "                                     xs_values[b_reacs], boron_matrix,\n",
    "                                      n_0_b, [0, 1])"
   ]
  },
  {
   "cell_type": "markdown",
   "id": "aa2bd418",
   "metadata": {},
   "source": [
    "## Infer Plutonium from Isotopic Ratio\n",
    "\n",
    "Inverting the above function numerically allows us to estimate the produced plutonium from a (hypothetical) isotope ratio measurement."
   ]
  },
  {
   "cell_type": "code",
   "execution_count": 15,
   "id": "b0da757c",
   "metadata": {},
   "outputs": [],
   "source": [
    "def plutonium_solver(func, ratio, guess):\n",
    "    \"\"\"Solve equation for plutonium given an isotopic ratio\n",
    "    \n",
    "    Uses scipy.optimize.fsolve to solve the equation:\n",
    "    \n",
    "                Ratio(Pu) - Ratio_measured = 0.\n",
    "    \n",
    "    Parameters\n",
    "    ----------\n",
    "    func : callable \n",
    "        Function relating the isotopic ratio with the total plutonium\n",
    "        production.\n",
    "    ratio : float\n",
    "        Measured isotopic ratio.\n",
    "    guess : float\n",
    "        Starting guess for the solver.\n",
    "        \n",
    "    Returns\n",
    "    -------\n",
    "    pu_solve\n",
    "    \"\"\"\n",
    "    def solve_func(pu):\n",
    "        return func(pu) - ratio\n",
    "    pu_solve = fsolve(solve_func, guess, full_output=True)\n",
    "    return pu_solve[0]"
   ]
  },
  {
   "cell_type": "code",
   "execution_count": 16,
   "id": "61ca3473",
   "metadata": {},
   "outputs": [
    {
     "name": "stdout",
     "output_type": "stream",
     "text": [
      "Ti-48/Ti-49 = 12.92 -> 0.0210 g/cm3\n"
     ]
    }
   ],
   "source": [
    "ti_pu_solved = plutonium_solver(ti_pu_func, 12.92, 0.023)\n",
    "print(f'Ti-48/Ti-49 = 12.92 -> {ti_pu_solved[0]:.4f} g/cm3')"
   ]
  },
  {
   "cell_type": "code",
   "execution_count": 17,
   "id": "f15e6430",
   "metadata": {},
   "outputs": [
    {
     "name": "stdout",
     "output_type": "stream",
     "text": [
      "B-10/B-11 = 0.04 -> 0.0219 g/cm3\n"
     ]
    }
   ],
   "source": [
    "b_pu_solved = plutonium_solver(b_pu_func, 0.04, 0.023)\n",
    "print(f'B-10/B-11 = 0.04 -> {b_pu_solved[0]:.4f} g/cm3')"
   ]
  },
  {
   "cell_type": "code",
   "execution_count": null,
   "id": "873bc60a",
   "metadata": {},
   "outputs": [],
   "source": []
  }
 ],
 "metadata": {
  "kernelspec": {
   "display_name": "Python 3 (ipykernel)",
   "language": "python",
   "name": "python3"
  },
  "language_info": {
   "codemirror_mode": {
    "name": "ipython",
    "version": 3
   },
   "file_extension": ".py",
   "mimetype": "text/x-python",
   "name": "python",
   "nbconvert_exporter": "python",
   "pygments_lexer": "ipython3",
   "version": "3.8.11"
  }
 },
 "nbformat": 4,
 "nbformat_minor": 5
}
