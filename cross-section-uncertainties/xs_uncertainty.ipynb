{
 "cells": [
  {
   "cell_type": "code",
   "execution_count": 1,
   "id": "774e83d7",
   "metadata": {},
   "outputs": [],
   "source": [
    "import os\n",
    "import numpy as np\n",
    "import pandas as pd\n",
    "from scipy.stats import norm\n",
    "from itertools import product"
   ]
  },
  {
   "cell_type": "markdown",
   "id": "ce7ad0fe",
   "metadata": {},
   "source": [
    "# Estimating the Input Uncertainty of the One-Group Cross-Section Parameters"
   ]
  },
  {
   "cell_type": "markdown",
   "id": "28147ba1",
   "metadata": {},
   "source": [
    "The one-group cross-section is in essence a weighted sum of the energy dependent cross-section, using the neutron flux spectrum as weights.\n",
    "For a reaction $j$, it can be writen as:\n",
    "$$\\sigma_{i,one-group} = \\frac{\\sum_{E_{i}}\\phi_{E_{i}}\\times\\sigma_{j,E_{i}}}{\\sum_{E_{i}}\\phi_{E_{i}}}$$\n",
    "\n",
    "Gaussian propagation of uncertainty can be used to propagate the uncertainty of the cross-section in each energy bin to an overall uncertainty $u_{one-group}$ of the one-group cross-section:\n",
    "$$u_{one-group}^2 = \\frac{\\sum_{i,k}\\phi_i\\phi_k\\,rcov_{i,k}\\sigma_i\\sigma_k}{\\sum_{E_{i}}\\phi_{E_{i}}}$$\n",
    "Here, both indices $i$ and $j$ run over all energy bins and $rcov$ is the relative covariance matrix of the cross-section data."
   ]
  },
  {
   "cell_type": "code",
   "execution_count": 2,
   "id": "f2a2ddca",
   "metadata": {},
   "outputs": [],
   "source": [
    "def one_group_cross_section(spectrum, cross_section):\n",
    "    \"\"\"Calculate a one-group cross-section\"\"\"\n",
    "    phi = spectrum.values\n",
    "    xs = cross_section.values.squeeze()\n",
    "    one_group_xs = (phi * xs).sum() / phi.sum()\n",
    "    return one_group_xs\n",
    "    \n",
    "    \n",
    "def propagate(spectrum, covariance, cross_section):\n",
    "    \"\"\"Propagate uncertainty with a relative covariance matrix\"\"\"\n",
    "    p = [spectrum[i] * spectrum[j] * covariance[i, j] * cross_section[i] * cross_section[j] \n",
    "         for i, j in product(range(len(spectrum)), repeat=2)]\n",
    "    return np.sqrt(np.sum(p)) / spectrum.sum()"
   ]
  },
  {
   "cell_type": "markdown",
   "id": "8c7ff492",
   "metadata": {},
   "source": [
    "We use the cross-section data for the radiative neutron capture in titanium-48 and a neutron spectrum of a thermal reactor to demonstrate the implementation."
   ]
  },
  {
   "cell_type": "code",
   "execution_count": 3,
   "id": "c0ff6a48",
   "metadata": {},
   "outputs": [],
   "source": [
    "xs_data = pd.read_csv('Ti48_MT102_cross_sections.csv', index_col=0)"
   ]
  },
  {
   "cell_type": "code",
   "execution_count": 4,
   "id": "f5e04bbb",
   "metadata": {},
   "outputs": [],
   "source": [
    "xs_rcov = pd.read_csv('Ti48_MT102_rcov.csv', index_col=0)"
   ]
  },
  {
   "cell_type": "code",
   "execution_count": 5,
   "id": "6b0ec0ad",
   "metadata": {},
   "outputs": [],
   "source": [
    "spectrum = pd.read_csv('spectra.csv', index_col=0).mean(axis=1)"
   ]
  },
  {
   "cell_type": "code",
   "execution_count": 6,
   "id": "04acd4fe",
   "metadata": {},
   "outputs": [
    {
     "name": "stdout",
     "output_type": "stream",
     "text": [
      "The relative standard deviation of the one-group cross-section is: 0.028\n"
     ]
    }
   ],
   "source": [
    "std = propagate(np.array(spectrum), np.array(xs_rcov), np.array(xs_data))\n",
    "ogxs = one_group_cross_section(spectrum, xs_data)\n",
    "rstd = std / ogxs\n",
    "print(f'The relative standard deviation of the one-group cross-section is: {rstd:.3f}')"
   ]
  },
  {
   "cell_type": "markdown",
   "id": "3cb6d3cb",
   "metadata": {},
   "source": [
    "# Sampling from the Cross-Section Uncertainty"
   ]
  },
  {
   "cell_type": "markdown",
   "id": "b113ac32",
   "metadata": {},
   "source": [
    "In the analysis we use the Sobol sequence to generate quasi-random input samples.\n",
    "The Sobol sequence generates uniformly distributed samples between 0 and 1.\n",
    "The following code example converts a uniformly distributed sample to a normally distributed sample.\n",
    "In this example we have replaced the Sobol sequence with the numpy random number generator.\n",
    "The steps that follow can be applied just as well to samples generated with the Sobol sequence.\n",
    "\n",
    "The graph below shows that this transformation produces a normal distribution, centered around the one-group cross-section we calculated above."
   ]
  },
  {
   "cell_type": "code",
   "execution_count": 7,
   "id": "ce1e30df",
   "metadata": {},
   "outputs": [],
   "source": [
    "samples = np.random.uniform(0, 1, size=10000)\n",
    "converted_samples = norm.ppf(samples, loc=1, scale=0.028)\n",
    "one_group_xs_samples = ogxs * converted_samples"
   ]
  },
  {
   "cell_type": "code",
   "execution_count": 8,
   "id": "382f6e49",
   "metadata": {},
   "outputs": [
    {
     "data": {
      "image/png": "[encoded data removed]",
      "text/plain": [
       "<Figure size 432x288 with 1 Axes>"
      ]
     },
     "metadata": {
      "needs_background": "light"
     },
     "output_type": "display_data"
    }
   ],
   "source": [
    "import matplotlib.pyplot as plt\n",
    "plt.figure()\n",
    "plt.grid(alpha=0.4)\n",
    "plt.hist(one_group_xs_samples, bins=69, density=True, alpha=0.6)\n",
    "plt.vlines(ogxs, 0, 5, color='red', label='Calculated og-xs')\n",
    "plt.vlines([ogxs - 0.028 * ogxs, ogxs + 0.028 * ogxs], 0, 5, color='red', ls='dashed', label='Calculated std. dev.')\n",
    "plt.legend()\n",
    "plt.show()"
   ]
  },
  {
   "cell_type": "code",
   "execution_count": null,
   "id": "ccd7d67d",
   "metadata": {},
   "outputs": [],
   "source": []
  }
 ],
 "metadata": {
  "kernelspec": {
   "display_name": "Python 3 (ipykernel)",
   "language": "python",
   "name": "python3"
  },
  "language_info": {
   "codemirror_mode": {
    "name": "ipython",
    "version": 3
   },
   "file_extension": ".py",
   "mimetype": "text/x-python",
   "name": "python",
   "nbconvert_exporter": "python",
   "pygments_lexer": "ipython3",
   "version": "3.8.11"
  }
 },
 "nbformat": 4,
 "nbformat_minor": 5
}
