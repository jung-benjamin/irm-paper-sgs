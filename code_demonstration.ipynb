{
 "cells": [
  {
   "cell_type": "code",
   "execution_count": 1,
   "id": "6c306255",
   "metadata": {},
   "outputs": [],
   "source": [
    "import os\n",
    "import numpy as np\n",
    "import pandas as pd\n",
    "from scipy.linalg import expm\n",
    "from scipy.optimize import fsolve"
   ]
  },
  {
   "cell_type": "markdown",
   "id": "96488972",
   "metadata": {},
   "source": [
    "## Compute variables\n",
    "\n",
    "Read the data from the example files. Compute $Pu_0$, $\\Phi_0$, $\\overline{\\phi}$ and $\\overline{\\phi_E}$."
   ]
  },
  {
   "cell_type": "code",
   "execution_count": 2,
   "id": "7e9d186e",
   "metadata": {},
   "outputs": [],
   "source": [
    "spectra = pd.read_csv('spectra.csv', index_col=0)\n",
    "\n",
    "plutonium = pd.read_csv('plutonium.csv', index_col=0)\n",
    "\n",
    "day_0 = plutonium.index[-1]\n",
    "t_0 = day_0 * 60 * 60 * 24 #convert from days to seconds\n",
    "\n",
    "pu_0 = plutonium.loc[day_0,:].sum()\n",
    "\n",
    "phi_E_mean = spectra.mean(axis=1)\n",
    "\n",
    "flux_mean = phi_E_mean.sum()\n",
    "\n",
    "phi_0 = flux_mean * t_0"
   ]
  },
  {
   "cell_type": "markdown",
   "id": "5951611d",
   "metadata": {},
   "source": [
    "## Read Cross Section Data from JANIS files"
   ]
  },
  {
   "cell_type": "code",
   "execution_count": 3,
   "id": "2ec45d77",
   "metadata": {},
   "outputs": [],
   "source": [
    "xs_janis = pd.read_csv('janis_xs_B_Ti.csv', index_col=0, header=[0,1])\n",
    "xs_values = xs_janis.xs('sigma', level = 1, axis = 1)"
   ]
  },
  {
   "cell_type": "markdown",
   "id": "6df610da",
   "metadata": {},
   "source": [
    "### Calculate cross-sections and reaction rate"
   ]
  },
  {
   "cell_type": "code",
   "execution_count": 4,
   "id": "600897f3",
   "metadata": {},
   "outputs": [],
   "source": [
    "def calc_reaction_rate(xs_data, energy_spectrum):\n",
    "    \"\"\"Calculate the reaction rate from the cross sections\n",
    "    \n",
    "    The reaction rate is calculated by integrating the\n",
    "    product of cross-section and neutron flux over energy.\n",
    "    Both are available on a discrete energy grid, which\n",
    "    converts the integral into a sum.\n",
    "    Reaction rates for all reactions in the cross-section\n",
    "    DataFrame (xs_data) are calculted. All arrays need to \n",
    "    be on the same energy grid.\n",
    "    \n",
    "    The JANIS cross-section data is given in units barn.\n",
    "    Therefore the one-group cross-section is multiplied with\n",
    "    1e-24 to transform to SI units.\n",
    "    \n",
    "    Parameters\n",
    "    ----------\n",
    "    xs_data : pd.DataFrame\n",
    "        Columns contain energy dependent cross section data in \n",
    "        units of barn.\n",
    "    energy_spectrum : pd.DataFrame or pd.Series\n",
    "        Columns contain the energy spetrum counts.\n",
    "    \n",
    "    Output\n",
    "    ------\n",
    "    og_xs\n",
    "        series, one-group cross-section for each column of xs_data\n",
    "    \"\"\"\n",
    "    df = pd.DataFrame()\n",
    "    for name, column in xs_data.items():\n",
    "        prod = energy_spectrum.values * column.values\n",
    "        df[name] = prod\n",
    "    rate = df.sum(axis=0)\n",
    "    return rate * 1e-24"
   ]
  },
  {
   "cell_type": "code",
   "execution_count": 5,
   "id": "c96c9a67",
   "metadata": {},
   "outputs": [],
   "source": [
    "#natural titanium composition \n",
    "n_0_Ti = np.array([0.0744,0.7372,0.0541])\n",
    "#natural boron composition\n",
    "n_0_B = np.array([0.2, 0.8])"
   ]
  },
  {
   "cell_type": "code",
   "execution_count": 6,
   "id": "876dd5db",
   "metadata": {},
   "outputs": [],
   "source": [
    "ti_reacs = ['Ti47_MT102', 'Ti48_MT102', 'Ti49_MT102']\n",
    "b_reacs = ['B10_MT107']"
   ]
  },
  {
   "cell_type": "code",
   "execution_count": 7,
   "id": "ea673c98",
   "metadata": {},
   "outputs": [],
   "source": [
    "def titanium_matrix(*args):\n",
    "    \"\"\"Create the transition matrix for titanium\"\"\"\n",
    "    t = np.array([[-args[0],        0,        0],\n",
    "                  [ args[0], -args[1],        0],\n",
    "                  [       0,  args[1], -args[2]]])\n",
    "    return t"
   ]
  },
  {
   "cell_type": "code",
   "execution_count": 8,
   "id": "e8e2ebd2",
   "metadata": {},
   "outputs": [],
   "source": [
    "def isotopic_vector(matrix, t, xs, spectrum, n_0):\n",
    "    \"\"\"Calculate the vector evolution\n",
    "    \n",
    "    Uses the simplified burnup matrix to calculate\n",
    "    the evolution of the isotopic vector.\n",
    "    \n",
    "    Parameters\n",
    "    ----------\n",
    "    matrix : callable\n",
    "        Simplified burnup matrix\n",
    "    t : float\n",
    "        Time in seconds (time the reactor is operational)\n",
    "    xs : pd.DataFrame\n",
    "        Cross-section data for the reactions accounted\n",
    "        for in the burnup matrix\n",
    "    spectrum : np.ndarray or pd.DataFrame\n",
    "        Neutron spectrum, needs to be on the same energy\n",
    "        grid as the cross-sections\n",
    "    n_0 : np.ndarray\n",
    "        Isotopic vector of the element at t=0, commonly\n",
    "        the natural isotopic composition.\n",
    "        \n",
    "    Returns\n",
    "    -------\n",
    "    iso_vec : np.ndarray\n",
    "        Isotopic vector at time t\n",
    "    \"\"\"\n",
    "    reac_rate = calc_reaction_rate(xs, spectrum)\n",
    "    bu_matrix = matrix(*reac_rate.values)\n",
    "    exp_matrix = expm(bu_matrix * t)\n",
    "    iso_vec = np.dot(exp_matrix, n_0)\n",
    "    return iso_vec"
   ]
  },
  {
   "cell_type": "code",
   "execution_count": 9,
   "id": "0729973a",
   "metadata": {},
   "outputs": [],
   "source": [
    "ti_vec = isotopic_vector(titanium_matrix,\n",
    "                         t_0,\n",
    "                         xs_values[ti_reacs],\n",
    "                         phi_E_mean,\n",
    "                         n_0_Ti\n",
    "                        )"
   ]
  },
  {
   "cell_type": "markdown",
   "id": "8ecbe94b",
   "metadata": {},
   "source": [
    "## Calculate longterm plutonium production"
   ]
  },
  {
   "cell_type": "code",
   "execution_count": 10,
   "id": "20d158ed",
   "metadata": {},
   "outputs": [],
   "source": [
    "def plutonium_to_time(pu, flux_average, phi_0, pu_0):\n",
    "    \"\"\"Approximate time in units of plutonium\n",
    "    \n",
    "    With the assumption that plutonium-per-unit-fluence is constant for \n",
    "    an average batch of fuel (one simulation), the total plutonium \n",
    "    over several subsequent batches is related to the operating time\n",
    "    of the reactor via a linear equation.\n",
    "    \n",
    "    Parameters\n",
    "    ----------\n",
    "    pu : float\n",
    "        Plutonium density in g cm-3.\n",
    "    flux_average : float\n",
    "        Average flux in the reactor in s-1 cm-2.\n",
    "    phi_0 : float\n",
    "        Fluence of an average batch in cm-2.\n",
    "    pu_0 : float\n",
    "        Plutonium density of an average batch in g cm-3.\n",
    "    \n",
    "    Returns\n",
    "    -------\n",
    "    t : float\n",
    "        Total irradiation time in s.\n",
    "    \"\"\"\n",
    "    t = pu * phi_0 / pu_0 / flux_average\n",
    "    return t"
   ]
  },
  {
   "cell_type": "markdown",
   "id": "d5b06358",
   "metadata": {},
   "source": [
    "## Combine Steps 1 and 2"
   ]
  },
  {
   "cell_type": "code",
   "execution_count": 11,
   "id": "7fc90de2",
   "metadata": {},
   "outputs": [],
   "source": [
    "def ratio_plutonium_function(spectrum, phi_0, pu_0, cross_sections,\n",
    "                             matrix, n_0, idx):\n",
    "    \"\"\"Calculate the isotopic vector as a function of plutonium\n",
    "    \n",
    "    Combine steps 1 and 2 of the irm analysis. First compute the \n",
    "    isotopic vector as a function of reactor operating time, then\n",
    "    insert the approximation between longterm plutonium production.\n",
    "    \n",
    "    Parameters\n",
    "    ----------\n",
    "    spectrum : np.ndarray or pd.DataFrame\n",
    "        Average neutron spectrum on the same energy grid\n",
    "        as the cross_sections.\n",
    "    phi_0 : float\n",
    "        Fluence of an average batch in cm-2.\n",
    "    pu_0 : float\n",
    "        Plutonium density (g cm-3) in the fuel at the end of an\n",
    "        average batch. \n",
    "    cross_sections : pd.DataFrame\n",
    "        Cross-sections of the reactions accounted for in the \n",
    "        burnup matrix.\n",
    "    matrix : callable\n",
    "        The simplified burnup matrix for the isotopic vector\n",
    "        of the indicator element.\n",
    "    n_0 : np.ndarray\n",
    "        The natural isotopic vector of the indicator element.\n",
    "        \n",
    "    Returns\n",
    "    -------\n",
    "    ratio : callable\n",
    "    \"\"\"\n",
    "    flux_average = spectrum.sum()\n",
    "    def ratio(pu):\n",
    "        \"\"\"Callable ratio function with plutonium as variable\"\"\"\n",
    "        t = plutonium_to_time(pu, flux_average, phi_0, pu_0)\n",
    "        iso_vec = isotopic_vector(matrix,\n",
    "                                  t,\n",
    "                                  cross_sections,\n",
    "                                  spectrum,\n",
    "                                  n_0\n",
    "                                  )\n",
    "        return iso_vec[idx[0]] / iso_vec[idx[1]]\n",
    "    return ratio"
   ]
  },
  {
   "cell_type": "code",
   "execution_count": 12,
   "id": "56771578",
   "metadata": {},
   "outputs": [],
   "source": [
    "ti_pu_func = ratio_plutonium_function(phi_E_mean, phi_0, pu_0,\n",
    "                                      xs_values[ti_reacs], titanium_matrix,\n",
    "                                      n_0_Ti, [1, 2])"
   ]
  },
  {
   "cell_type": "markdown",
   "id": "74b92f3f",
   "metadata": {},
   "source": [
    "## Solve inverse numerically to infer plutonium from ratio measurement"
   ]
  },
  {
   "cell_type": "code",
   "execution_count": 13,
   "id": "e834e615",
   "metadata": {},
   "outputs": [],
   "source": [
    "def plutonium_solver(func, ratio, guess):\n",
    "    \"\"\"Solve equation for plutonium given an isotopic ratio\n",
    "    \n",
    "    Uses scipy.optimize.fsolve to solve the equation:\n",
    "    \n",
    "                Ratio(Pu) - Ratio_measured = 0.\n",
    "    \n",
    "    Parameters\n",
    "    ----------\n",
    "    func : callable \n",
    "        Function relating the isotopic ratio with the total plutonium\n",
    "        production.\n",
    "    ratio : float\n",
    "        Measured isotopic ratio.\n",
    "    guess : float\n",
    "        Starting guess for the solver.\n",
    "        \n",
    "    Returns\n",
    "    -------\n",
    "    pu_solve\n",
    "    \"\"\"\n",
    "    def solve_func(pu):\n",
    "        return func(pu) - ratio\n",
    "    pu_solve = fsolve(solve_func, guess, full_output=True)\n",
    "    return pu_solve[0]"
   ]
  },
  {
   "cell_type": "code",
   "execution_count": 14,
   "id": "6240fcc0",
   "metadata": {},
   "outputs": [],
   "source": [
    "ti_pu_solved = plutonium_solver(ti_pu_func, 12.92, 0.023)"
   ]
  },
  {
   "cell_type": "code",
   "execution_count": null,
   "id": "6ea2b2e3",
   "metadata": {},
   "outputs": [],
   "source": []
  }
 ],
 "metadata": {
  "kernelspec": {
   "display_name": "Python 3 (ipykernel)",
   "language": "python",
   "name": "python3"
  },
  "language_info": {
   "codemirror_mode": {
    "name": "ipython",
    "version": 3
   },
   "file_extension": ".py",
   "mimetype": "text/x-python",
   "name": "python",
   "nbconvert_exporter": "python",
   "pygments_lexer": "ipython3",
   "version": "3.8.11"
  }
 },
 "nbformat": 4,
 "nbformat_minor": 5
}
